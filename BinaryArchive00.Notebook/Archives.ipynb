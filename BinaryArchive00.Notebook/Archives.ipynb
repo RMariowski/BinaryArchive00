{
 "cells": [
  {
   "cell_type": "code",
   "execution_count": 3,
   "id": "21b2023e",
   "metadata": {
    "dotnet_interactive": {
     "language": "csharp"
    },
    "polyglot_notebook": {
     "kernelName": "csharp"
    },
    "vscode": {
     "languageId": "polyglot-notebook"
    }
   },
   "outputs": [
    {
     "name": "stdout",
     "output_type": "stream",
     "text": [
      "\n",
      "Build succeeded.\n",
      "    0 Warning(s)\n",
      "    0 Error(s)\n",
      "\n",
      "Time Elapsed 00:00:00.80\n"
     ]
    },
    {
     "data": {
      "text/html": [
       "<div><div></div><div></div><div><strong>Installed Packages</strong><ul><li><span>ConsoleTables, 2.6.1</span></li></ul></div></div>"
      ]
     },
     "metadata": {},
     "output_type": "display_data"
    }
   ],
   "source": [
    "#!csharp\n",
    "#!import \"_Shared.ipynb\""
   ]
  },
  {
   "cell_type": "code",
   "execution_count": 4,
   "id": "79bc9ff8",
   "metadata": {
    "dotnet_interactive": {
     "language": "csharp"
    },
    "polyglot_notebook": {
     "kernelName": "csharp"
    },
    "vscode": {
     "languageId": "polyglot-notebook"
    }
   },
   "outputs": [],
   "source": [
    "#!csharp\n",
    "\n",
    "SaveTable(\"extracted/ca-list-u.txt\", new[] { \"name\", \"unknown\" }, \n",
    "            archives.Select(archive => new object[] { archive.FileName, BitConverter.ToString(archive.Unknown) }).ToArray());\n",
    "\n",
    "SaveTable(\"extracted/ca-list-u2.txt\", new[] { \"name\", \"unknown2\" }, \n",
    "            archives.Select(archive => new object[] { archive.FileName, BitConverter.ToString(archive.Unknown2) }).ToArray());\n",
    "\n",
    "SaveTable(\"extracted/ca-list-ue.txt\", new[] { \"name\", \"unknown-enum\" }, \n",
    "            archives.OrderBy(x => x.UnknownEnum).Select(archive => new object[] { archive.FileName, BitConverter.ToString(new byte[] { (byte)archive.UnknownEnum }) }).ToArray());"
   ]
  }
 ],
 "metadata": {
  "kernelspec": {
   "display_name": ".NET (C#)",
   "language": "C#",
   "name": ".net-csharp"
  },
  "language_info": {
   "codemirror_mode": {
    "name": "ipython",
    "version": 3
   },
   "file_extension": ".py",
   "mimetype": "text/x-python",
   "name": "python",
   "nbconvert_exporter": "python",
   "pygments_lexer": "ipython3",
   "version": "3.10.4"
  },
  "polyglot_notebook": {
   "kernelInfo": {
    "defaultKernelName": "csharp",
    "items": [
     {
      "aliases": [],
      "name": "csharp"
     }
    ]
   }
  }
 },
 "nbformat": 4,
 "nbformat_minor": 5
}
