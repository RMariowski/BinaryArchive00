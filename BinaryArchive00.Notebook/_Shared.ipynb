{
 "cells": [
  {
   "cell_type": "code",
   "execution_count": 12,
   "id": "b0f17597",
   "metadata": {
    "dotnet_interactive": {
     "language": "csharp"
    },
    "polyglot_notebook": {
     "kernelName": "csharp"
    },
    "vscode": {
     "languageId": "polyglot-notebook"
    }
   },
   "outputs": [
    {
     "name": "stdout",
     "output_type": "stream",
     "text": [
      "\n",
      "Build succeeded.\n",
      "    0 Warning(s)\n",
      "    0 Error(s)\n",
      "\n",
      "Time Elapsed 00:00:00.86\n"
     ]
    }
   ],
   "source": [
    "#!pwsh \n",
    "dotnet build .\\..\\BinaryArchive00\\BinaryArchive00.csproj -v quiet -o bin"
   ]
  },
  {
   "cell_type": "code",
   "execution_count": 13,
   "id": "805dff50",
   "metadata": {
    "dotnet_interactive": {
     "language": "csharp"
    },
    "polyglot_notebook": {
     "kernelName": "csharp"
    },
    "vscode": {
     "languageId": "polyglot-notebook"
    }
   },
   "outputs": [],
   "source": [
    "#!csharp\n",
    "\n",
    "using System.IO;\n",
    "\n",
    "string PathToArchives = File.ReadLines(\"PathToArchives\").First();"
   ]
  },
  {
   "cell_type": "code",
   "execution_count": 14,
   "id": "305b7c41",
   "metadata": {
    "dotnet_interactive": {
     "language": "csharp"
    },
    "polyglot_notebook": {
     "kernelName": "csharp"
    },
    "vscode": {
     "languageId": "polyglot-notebook"
    }
   },
   "outputs": [],
   "source": [
    "#!csharp\n",
    "#r \"./bin/BinaryArchive00.dll\"\n",
    "\n",
    "using BinaryArchive00;"
   ]
  },
  {
   "cell_type": "code",
   "execution_count": 15,
   "id": "bb601f55",
   "metadata": {
    "dotnet_interactive": {
     "language": "csharp"
    },
    "polyglot_notebook": {
     "kernelName": "csharp"
    },
    "vscode": {
     "languageId": "polyglot-notebook"
    }
   },
   "outputs": [],
   "source": [
    "var filePaths = Directory.GetFiles(PathToArchives, \"*.ca\", SearchOption.AllDirectories);\n",
    "var archives = filePaths.Select(path => ArchiveFile.Open(path)).ToArray();\n",
    "\n",
    "var dv2 = archives.Single(archive => archive.FileName == \"dv2.ca\");\n",
    "var dv2patch = archives.Single(archive => archive.FileName == \"dv2patch.ca\");\n",
    "var music = archives.Single(archive => archive.FileName == \"music.ca\");\n",
    "var music2 = archives.Single(archive => archive.FileName == \"music2.ca\");\n",
    "var language = archives.Single(archive => archive.FileName == \"language.ca\");\n",
    "var langpatch = archives.Single(archive => archive.FileName == \"langpatch.ca\");"
   ]
  },
  {
   "cell_type": "code",
   "execution_count": 16,
   "id": "21b2023e",
   "metadata": {
    "dotnet_interactive": {
     "language": "csharp"
    },
    "polyglot_notebook": {
     "kernelName": "csharp"
    },
    "vscode": {
     "languageId": "polyglot-notebook"
    }
   },
   "outputs": [
    {
     "data": {
      "text/html": [
       "<div><div></div><div></div><div><strong>Installed Packages</strong><ul><li><span>ConsoleTables, 2.6.1</span></li></ul></div></div>"
      ]
     },
     "metadata": {},
     "output_type": "display_data"
    }
   ],
   "source": [
    "#!csharp\n",
    "#r \"nuget:ConsoleTables\"\n",
    "\n",
    "using ConsoleTables;\n",
    "\n",
    "public void PrintTable(string[] columns, object[][] rows)\n",
    "{\n",
    "    ConsoleTable table = new(columns);\n",
    "    foreach (var row in rows)\n",
    "        table.AddRow(row);\n",
    "    table.Write();\n",
    "}\n",
    "\n",
    "public void SaveTable(string filePath, string[] columns, object[][] rows)\n",
    "{\n",
    "    Directory.CreateDirectory(Path.GetDirectoryName(filePath));\n",
    "\n",
    "    var consoleOut = Console.Out;\n",
    "    using FileStream fileStream = new(filePath, FileMode.Create, FileAccess.Write);\n",
    "    using StreamWriter writer = new(fileStream) { AutoFlush = true };\n",
    "    Console.SetOut(writer);\n",
    "\n",
    "    ConsoleTable table = new(columns);\n",
    "    foreach (var row in rows)\n",
    "        table.AddRow(row);\n",
    "    table.Write();\n",
    "\n",
    "    Console.SetOut(consoleOut);\n",
    "}\n",
    "\n",
    "public void SaveEntry(ArchiveEntry entry, string filePath)\n",
    "{\n",
    "    Directory.CreateDirectory(Path.GetDirectoryName(filePath));\n",
    "    File.WriteAllBytes(filePath, entry.Content);\n",
    "}\n",
    "\n",
    "bool AreEqual(byte[] array1, byte[] array2)\n",
    "{\n",
    "    if (array1 == array2)\n",
    "        return true;\n",
    "\n",
    "    if (array1 == null || array2 == null || array1.Length != array2.Length)\n",
    "        return false;\n",
    "\n",
    "    return new Span<byte>(array1).SequenceEqual(new Span<byte>(array2));\n",
    "}\n",
    "\n",
    "void PrintDifferences(byte[] array1, byte[] array2)\n",
    "{\n",
    "    if (array1 == null || array2 == null)\n",
    "    {\n",
    "        Console.WriteLine(\"One or both arrays are null.\");\n",
    "        return;\n",
    "    }\n",
    "\n",
    "    int length = Math.Min(array1.Length, array2.Length);\n",
    "\n",
    "    for (int i = 0; i < length; i++)\n",
    "    {\n",
    "        if (array1[i] != array2[i])\n",
    "        {\n",
    "            Console.WriteLine($\"Difference at index {i}: array1 = {array1[i]}, array2 = {array2[i]}\");\n",
    "        }\n",
    "    }\n",
    "\n",
    "    if (array1.Length != array2.Length)\n",
    "    {\n",
    "        Console.WriteLine(\"The arrays have different lengths.\");\n",
    "        if (array1.Length > array2.Length)\n",
    "        {\n",
    "            for (int i = length; i < array1.Length; i++)\n",
    "            {\n",
    "                Console.WriteLine($\"Extra byte in array1 at index {i}: {array1[i]}\");\n",
    "            }\n",
    "        }\n",
    "        else\n",
    "        {\n",
    "            for (int i = length; i < array2.Length; i++)\n",
    "            {\n",
    "                Console.WriteLine($\"Extra byte in array2 at index {i}: {array2[i]}\");\n",
    "            }\n",
    "        }\n",
    "    }\n",
    "}"
   ]
  }
 ],
 "metadata": {
  "kernelspec": {
   "display_name": ".NET (C#)",
   "language": "C#",
   "name": ".net-csharp"
  },
  "language_info": {
   "codemirror_mode": {
    "name": "ipython",
    "version": 3
   },
   "file_extension": ".py",
   "mimetype": "text/x-python",
   "name": "python",
   "nbconvert_exporter": "python",
   "pygments_lexer": "ipython3",
   "version": "3.10.4"
  },
  "polyglot_notebook": {
   "kernelInfo": {
    "defaultKernelName": "csharp",
    "items": [
     {
      "aliases": [],
      "name": "csharp"
     }
    ]
   }
  }
 },
 "nbformat": 4,
 "nbformat_minor": 5
}
